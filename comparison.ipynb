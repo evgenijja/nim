{
 "cells": [
  {
   "cell_type": "markdown",
   "metadata": {},
   "source": [
    "### Comparison of reinforcement learning algorithms for Nim game\n",
    "\n",
    "Algorithms implemented:\n",
    "* Minimax algorithm with alpha beta pruning\n",
    "* Q-learning\n",
    "* SARSA"
   ]
  },
  {
   "cell_type": "code",
   "execution_count": 1,
   "metadata": {},
   "outputs": [],
   "source": [
    "from nim import *\n",
    "from qlearning import *\n",
    "from sarsa import *"
   ]
  },
  {
   "cell_type": "markdown",
   "metadata": {},
   "source": [
    "First let's compare Q-learning and SARSA algorithms since they're very similar.\n",
    "\n",
    "We compare them by letting them play against eachother n times. Each time we generate a game with random number of piles (between 1 and 10) each pile with a random number of coins (between 1 and 10) and train both algorithms 10 000 times. Then we choose randomly which algorithm will have the first move and let them play. We keep track of the number of wins for each algorithm."
   ]
  },
  {
   "cell_type": "code",
   "execution_count": 2,
   "metadata": {},
   "outputs": [],
   "source": [
    "from play import *"
   ]
  },
  {
   "cell_type": "code",
   "execution_count": 5,
   "metadata": {},
   "outputs": [
    {
     "name": "stdout",
     "output_type": "stream",
     "text": [
      "After playing for 20 times the amounts of wins are: {'Q-learning': 13, 'SARSA': 7}\n"
     ]
    }
   ],
   "source": [
    "# this will take approx. 25 seconds\n",
    "print(\"After playing for 20 times the amounts of wins are: \" + str(qlearn_vs_sarsa(20)))"
   ]
  },
  {
   "cell_type": "code",
   "execution_count": 6,
   "metadata": {},
   "outputs": [
    {
     "name": "stdout",
     "output_type": "stream",
     "text": [
      "After playing for 100 times the amounts of wins are: {'Q-learning': 44, 'SARSA': 56}\n"
     ]
    }
   ],
   "source": [
    "print(\"After playing for 100 times the amounts of wins are: \" + str(qlearn_vs_sarsa(100)))"
   ]
  },
  {
   "cell_type": "markdown",
   "metadata": {},
   "source": [
    "Now we compare Minimax algorithm with Q-learning and SARSA."
   ]
  },
  {
   "cell_type": "code",
   "execution_count": 3,
   "metadata": {},
   "outputs": [
    {
     "name": "stdout",
     "output_type": "stream",
     "text": [
      "{'Other algorithm': 14, 'Minimax': 6}\n",
      "{'Other algorithm': 11, 'Minimax': 9}\n"
     ]
    }
   ],
   "source": [
    "from play import *\n",
    "print(alg_vs_minimax(Qlearning(0.5, 0.5,0.8), 20))\n",
    "print(alg_vs_minimax(SarsaAlgorithm(0.5, 0.8), 20))\n"
   ]
  }
 ],
 "metadata": {
  "interpreter": {
   "hash": "fca943df755b6c8d49209a4c773617e31873fb575c1f7e38e085fa1100a6dd97"
  },
  "kernelspec": {
   "display_name": "Python 3.10.4 64-bit",
   "language": "python",
   "name": "python3"
  },
  "language_info": {
   "codemirror_mode": {
    "name": "ipython",
    "version": 3
   },
   "file_extension": ".py",
   "mimetype": "text/x-python",
   "name": "python",
   "nbconvert_exporter": "python",
   "pygments_lexer": "ipython3",
   "version": "3.10.4"
  },
  "orig_nbformat": 4
 },
 "nbformat": 4,
 "nbformat_minor": 2
}
